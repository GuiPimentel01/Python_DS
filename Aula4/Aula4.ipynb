{
 "cells": [
  {
   "cell_type": "code",
   "execution_count": 2,
   "metadata": {},
   "outputs": [
    {
     "name": "stdout",
     "output_type": "stream",
     "text": [
      "[0, 1, 2, 3, 4, 5, 6, 7, 8, 9, 10, 11, 12, 13, 14, 15, 16, 17, 18, 19, 20, 21, 22, 23, 24, 25, 26, 27, 28, 29, 30, 31, 32, 33, 34, 35, 36, 37, 38, 39, 40, 41, 42, 43, 44, 45, 46, 47, 48, 49, 50, 51, 52, 53, 54, 55, 56, 57, 58, 59, 60, 61, 62, 63, 64, 65, 66, 67, 68, 69, 70, 71, 72, 73, 74, 75, 76, 77, 78, 79, 80, 81, 82, 83, 84, 85, 86, 87, 88, 89, 90, 91, 92, 93, 94, 95, 96, 97, 98, 99, 100]\n",
      "Total somado:  5050\n",
      "Total somado numeros pares:  2550\n",
      "Total somado numeros pares:  2500\n"
     ]
    }
   ],
   "source": [
    "# Criar uma lista de 100 numeros e somar e exibir o resultado. \n",
    "# 2 - Somar os números pares. \n",
    "# 3 - Somar os números impares.\n",
    "\n",
    "numeros = list(range(0,101))\n",
    "numero_par = []\n",
    "numero_impar = []\n",
    "soma = 0\n",
    "\n",
    "# imprimindo os numeros\n",
    "print(numeros)\n",
    "\n",
    "# realizando as somas doas vlores\n",
    "for numero in numeros:\n",
    "    soma += numero\n",
    "    \n",
    "    if numero % 2 == 0:\n",
    "        numero_par.append(numero)\n",
    "    else:\n",
    "        numero_impar.append(numero)\n",
    "\n",
    "# imprimindo as informações\n",
    "print(\"Total somado: \", soma)\n",
    "print(\"Total somado numeros pares: \", sum(numero_par))\n",
    "print(\"Total somado numeros pares: \", sum(numero_impar))"
   ]
  },
  {
   "cell_type": "code",
   "execution_count": 3,
   "metadata": {},
   "outputs": [
    {
     "name": "stdout",
     "output_type": "stream",
     "text": [
      "[[0, 0, 0], [1, 1, 1], [2, 2, 2], [3, 3, 3], [4, 4, 4], [5, 5, 5], [6, 6, 6], [7, 7, 7], [8, 8, 8], [9, 9, 9], [10, 10, 10], [11, 11, 11], [12, 12, 12], [13, 13, 13], [14, 14, 14], [15, 15, 15], [16, 16, 16], [17, 17, 17], [18, 18, 18], [19, 19, 19]]\n"
     ]
    }
   ],
   "source": [
    "import numpy as np\n",
    "\n",
    "# Declarando uma matriz vazia\n",
    "M = []\n",
    "\n",
    "# realizando a criação de uma matriz de 20 linhas e 3 colunas\n",
    "for i in range(20):\n",
    "    M = M + [[i] * 3]\n",
    "\n",
    "print(M)"
   ]
  },
  {
   "cell_type": "code",
   "execution_count": null,
   "metadata": {},
   "outputs": [],
   "source": []
  }
 ],
 "metadata": {
  "kernelspec": {
   "display_name": "Python 3",
   "language": "python",
   "name": "python3"
  },
  "language_info": {
   "codemirror_mode": {
    "name": "ipython",
    "version": 3
   },
   "file_extension": ".py",
   "mimetype": "text/x-python",
   "name": "python",
   "nbconvert_exporter": "python",
   "pygments_lexer": "ipython3",
   "version": "3.8.3"
  }
 },
 "nbformat": 4,
 "nbformat_minor": 4
}
