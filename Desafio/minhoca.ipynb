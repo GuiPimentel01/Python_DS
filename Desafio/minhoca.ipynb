{
 "cells": [
  {
   "cell_type": "code",
   "execution_count": null,
   "metadata": {},
   "outputs": [],
   "source": [
    "# contruir uma classe cujo objetico e descobrir o quantos dias uma minhoca consegue subir um poço\n",
    "# Sendo que num dia ela consegui subir uma determinado numero de metros e a noite ela cai um metro\n",
    "\n",
    "class Minhoca:\n",
    "       \n",
    "# criando as variaveis        \n",
    "    poco = 0\n",
    "    valor_metros = 0\n",
    "    minhoca = 0\n",
    "    dias_corridos = 0\n",
    "    \n",
    " # criando a classe e seus metodos\n",
    "    def __init__(self, poco, valor_metros ):\n",
    "        self.valor_metros = valor_metros\n",
    "        self.poco = poco\n",
    "        \n",
    "    def poco_descer(self):\n",
    "        self.posicao -= 1\n",
    "        \n",
    "    def poco_subir(self):\n",
    "        self.dias_corridos += 1\n",
    "        self.minhoca += self.valor_metros\n",
    "        \n",
    "    def poco_sair(self):\n",
    "        while (self.minhoca < self.poco):\n",
    "            self.poco_subir()\n",
    "            self.poco_descer()\n",
    "        \n",
    "# Coletando informações do usuário \n",
    "poco_usuario = input(\"Qual a profundidade do poço?\")\n",
    "metro_usuario = input(\"Quantos Metros a minhoca irá subir por dia?\")\n",
    "\n",
    "# Passando informações para dentro da classe\n",
    "caminho = minhoca_estado(poco_usuario, metro_usuario)\n",
    "caminho.poco_sair()\n",
    "dias_total = caminho.dias_corridos\n",
    "\n",
    "#Imprimindo valores\n",
    "print (f\"Tamanho do poço:{poco_usuario}\")\n",
    "print (f\"quantidade de metros a subir:{metro_usuario}\")\n",
    "print (f\"total de dias que irá demorar: {dias_total} dias.\")"
   ]
  },
  {
   "cell_type": "code",
   "execution_count": null,
   "metadata": {},
   "outputs": [],
   "source": []
  },
  {
   "cell_type": "code",
   "execution_count": null,
   "metadata": {},
   "outputs": [],
   "source": []
  }
 ],
 "metadata": {
  "kernelspec": {
   "display_name": "Python 3",
   "language": "python",
   "name": "python3"
  },
  "language_info": {
   "codemirror_mode": {
    "name": "ipython",
    "version": 3
   },
   "file_extension": ".py",
   "mimetype": "text/x-python",
   "name": "python",
   "nbconvert_exporter": "python",
   "pygments_lexer": "ipython3",
   "version": "3.8.3"
  }
 },
 "nbformat": 4,
 "nbformat_minor": 4
}
