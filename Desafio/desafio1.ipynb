{
 "cells": [
  {
   "cell_type": "code",
   "execution_count": 11,
   "metadata": {},
   "outputs": [
    {
     "name": "stdout",
     "output_type": "stream",
     "text": [
      "O horário das :  10:54:24]  possui o maior indices de mensagens. Com a quantidade de:  1\n",
      "O horário das :  21:55:26]  possui o menor indices de mensagens. Com a quantidade de:  1\n",
      "A palavra  apagada.\n",
      "  possui o maior indices de mensagens. Com a quantidade de:  17\n",
      "O dia da Semana com maior incidência é:  [] . Com a quantidade de:  0\n"
     ]
    }
   ],
   "source": [
    "# Desafio \n",
    "# Desafio 1: Voce irá entrar em uma conversa do seu what's up. Baixar a conversa em formato txt. Depois disso irá importar usando PYTHON. \n",
    "# O desafio será, na leitura voce deverá identificar os seguintes pontos:\n",
    "# 1 - Quais as palavras mais trocadas na conversa.\n",
    "# 2 - Qual o dia da semana que mais troca mensagem.\n",
    "# 3 - Qual o horario que mais fala.\n",
    "# 4 - Qual o horario que menos fala.\n",
    "\n",
    "#Criando a  Bilioteca\n",
    "from datetime import datetime \n",
    "\n",
    "#Leitura do arquivo .txt\n",
    "ref_arquivo = open(\"C:\\conversas.txt\",\"r\", encoding = 'utf-8')\n",
    "linha = ref_arquivo.readline()\n",
    "\n",
    "# criando Listas\n",
    "data = []\n",
    "dia_semana = []\n",
    "dia_por_semana = []\n",
    "valor_dia_maior = []\n",
    "horario = []\n",
    "pessoas = []\n",
    "mensagem = []\n",
    "erros = []\n",
    "quant_hora_maior = 0\n",
    "quant_hora_menor = 100\n",
    "quant_mensagem_maior = 0\n",
    "quant_dia_maior = 0\n",
    "\n",
    "# informações sendo inseridas dentro do vetor\n",
    "while linha:\n",
    "    valores = linha.split(\" \", 6)\n",
    "    try:\n",
    "        datas = datas + valores[0:1]    \n",
    "        horario = horario + valores[1:2]\n",
    "        pessoas = pessoas + valores[5:6]\n",
    "        mensagem = mensagem + valores[6:]\n",
    "    except ValueError:\n",
    "        erros.append('Erros de Formatacao de Data')\n",
    "    linha = ref_arquivo.readline()\n",
    "\n",
    "# realizando a verificação de horarios das mensagens\n",
    "for valor in horario:\n",
    "        if (horario.count(valor) > quant_hora_maior):\n",
    "        quant_hora_maior = horario.count(valor)\n",
    "        valor_hora_maior = valor\n",
    "    elif (horario.count(valor) < quant_hora_menor):\n",
    "        quant_hora_menor = horario.count(valor)\n",
    "        valor_hora_menor = valor\n",
    "print(\"O horário das : \",valor_hora_maior,\" possui o maior indices de mensagens. Com a quantidade de: \" ,quant_hora_menor)\n",
    "print(\"O horário das : \",valor_hora_menor,\" possui o menor indices de mensagens. Com a quantidade de: \" ,quant_hora_menor )\n",
    "\n",
    "\n",
    "#realizando a verificação das palavras  que são mais utilizadas\n",
    "for valor_mensagem in mensagem:\n",
    "        if (mensagem.count(valor_mensagem) > quant_mensagem_maior):\n",
    "        quant_mensagem_maior = mensagem.count(valor_mensagem)\n",
    "        valor_mensagem_maior = valor_mensagem\n",
    "print(\"A palavra \",valor_mensagem_maior,\" possui o maior indices de mensagens. Com a quantidade de: \" ,quant_mensagem_maior)\n",
    "\n",
    "#criando outro vetor com os dias e fazendo tratamendo de suas datas\n",
    "for valor_data in data:\n",
    "    try:\n",
    "        teste1 = teste.strftime('%A')\n",
    "        dia_semana.append(teste1) \n",
    "           except ValueError:\n",
    "        erros.append('Erros de Formatacao de Data')\n",
    "    linha = ref_arquivo.readline()\n",
    "\n",
    "# fazendo calculo de do maior trafego de mensagens por \n",
    "for dia in dia_por_semana:\n",
    "    if (dia_por_semana.count(dia) > quant_dia_maior):\n",
    "        quant_dia_maior = dia_por_semana.count(dias)\n",
    "        valor_dia_maior = dia\n",
    "print(\"O dia da Semana com maior incidência é: \",valor_dia_maior,\". Com a quantidade de: \" ,quant_dia_maior)\n",
    "        \n",
    "ref_arquivo.close()"
   ]
  },
  {
   "cell_type": "code",
   "execution_count": null,
   "metadata": {},
   "outputs": [],
   "source": []
  }
 ],
 "metadata": {
  "kernelspec": {
   "display_name": "Python 3",
   "language": "python",
   "name": "python3"
  },
  "language_info": {
   "codemirror_mode": {
    "name": "ipython",
    "version": 3
   },
   "file_extension": ".py",
   "mimetype": "text/x-python",
   "name": "python",
   "nbconvert_exporter": "python",
   "pygments_lexer": "ipython3",
   "version": "3.8.3"
  }
 },
 "nbformat": 4,
 "nbformat_minor": 4
}
