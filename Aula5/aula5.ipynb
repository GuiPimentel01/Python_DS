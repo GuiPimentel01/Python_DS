{
 "cells": [
  {
   "cell_type": "code",
   "execution_count": 10,
   "metadata": {},
   "outputs": [
    {
     "name": "stdout",
     "output_type": "stream",
     "text": [
      "class_calculadora\n",
      "4\n",
      "1\n",
      "36\n",
      "1.0\n"
     ]
    }
   ],
   "source": [
    "# criando calculadora\n",
    "class Calculadora:  \n",
    "# definindo os metodos\n",
    "    def __init__(self):\n",
    "        print(\"class_calculadora\")     \n",
    "    \n",
    "    def soma(self, valor1, valor2):\n",
    "        soma = valor1 + valor2\n",
    "        return soma\n",
    "    \n",
    "    def mult(self, valor1, valor2):\n",
    "        mult = valor1 * valor2\n",
    "        return mult\n",
    "    \n",
    "    def sub(self, valor1, valor2):\n",
    "        sub = valor1 - valor2\n",
    "        return sub\n",
    "    \n",
    "    def div(self, valor1, valor2):\n",
    "        if(valor2 != 0 ):\n",
    "            div = valor1 / valor2\n",
    "            return div\n",
    "        else:\n",
    "            return print(\"Valor da segunda variavel nao pode ser zero!\")\n",
    "\n",
    "total = Calculadora()\n",
    "\n",
    "print(total.soma(2,2))\n",
    "print (total.sub(3,2))\n",
    "print (total.mult(6,6))\n",
    "print (total.div(3,3))"
   ]
  },
  {
   "cell_type": "code",
   "execution_count": null,
   "metadata": {},
   "outputs": [],
   "source": []
  },
  {
   "cell_type": "code",
   "execution_count": 16,
   "metadata": {},
   "outputs": [
    {
     "name": "stdout",
     "output_type": "stream",
     "text": [
      "Craindo a classe veiculo\n",
      "Meu carro  fiesta  da marca  ford  tem  4 rodas é da cor  preto\n",
      "rosa\n"
     ]
    }
   ],
   "source": [
    "#criando um carro com class\n",
    "# defininfo um carro\n",
    "class Veiculo:\n",
    "    def __init__(self, modelo, marca, roda, cor):\n",
    "        print(\"Craindo a classe veiculo\")\n",
    "        self.marca = marca\n",
    "        self.modelo = modelo\n",
    "        self.cor = cor\n",
    "        self.roda = roda\n",
    "        print(\"Meu carro \", modelo,\" da marca \", marca,\" tem \", roda, \"rodas é da cor \", cor)\n",
    "        \n",
    "# definindo metodos   \n",
    "    def setMarca(self,marca):\n",
    "        self.marca = marca\n",
    "    \n",
    "    def setModelo(self,modelo):\n",
    "        self.modelo = modelo\n",
    "        \n",
    "    def setCor(self,cor):\n",
    "        self.cor = cor\n",
    "    \n",
    "    def setRoda(self,roda):\n",
    "        self.roda = roda\n",
    "        \n",
    "# alterando a cor do carro   \n",
    "    def setNovaCor(self,nova_cor):\n",
    "        self.nova_cor = nova_cor\n",
    "\n",
    "# coletando as informações do carro\n",
    "    def getMarca(self):\n",
    "        return self.marca\n",
    "    \n",
    "    def getModelo(self):\n",
    "        return self.modelo\n",
    "    \n",
    "    def getCor(self):\n",
    "        return self.cor\n",
    "    \n",
    "    def getRoda(self):\n",
    "        return self.roda\n",
    "    \n",
    "      def getNovaCor(self):\n",
    "        return self.nova_cor\n",
    "    \n",
    "# imprimindo o carro\n",
    "carro = Veiculo(\"fiesta\", \"ford\", 4, \"preto\")\n",
    "\n",
    "carro.setCor(\"Rosa\")\n",
    "carro.setModelo(\"Opala\")\n",
    "carro.setMarca(\"GM\")\n",
    "carro.setRoda(6)\n",
    "carro.setNovaCor(\"rosa\")\n",
    "print(carro.getNovaCor())\n"
   ]
  },
  {
   "cell_type": "code",
   "execution_count": 48,
   "metadata": {},
   "outputs": [
    {
     "name": "stdout",
     "output_type": "stream",
     "text": [
      "Calculo do ano é\n",
      "30\n"
     ]
    }
   ],
   "source": [
    "# utilizando class para calcular a idade atual de uma pessoa\n",
    "\n",
    "# criando a classe\n",
    "class idade_pessoa:\n",
    "    \n",
    "    def __init__(self):\n",
    "        print(\"Calculo do ano é\")\n",
    "        \n",
    "# definindo metodos         \n",
    "    def setAnoNascimento(self,ano_nascimento):\n",
    "        self.ano_nascimento = ano_nascimento\n",
    "        \n",
    "    def setAnoMomento(self,ano_momento):\n",
    "        self.ano_momento = ano_momento\n",
    "        \n",
    "        \n",
    "# coletando as informações para o calulo       \n",
    "    def getAnoNascimento(self):\n",
    "        return self.ano_nascimento\n",
    "    \n",
    "    def getAnoMomento(self):\n",
    "        return self.ano_momento\n",
    "    \n",
    "# realizando o calculo    \n",
    "    def calculodoAno(self):\n",
    "        idade = self.ano_momento - self.ano_nascimento\n",
    "        return idade\n",
    "    \n",
    "idade = idade_pessoa()\n",
    "idade.setAnoNascimento (1990)\n",
    "idade.setAnoMomento (2020)\n",
    "print(idade.calculodoAno())"
   ]
  },
  {
   "cell_type": "code",
   "execution_count": null,
   "metadata": {},
   "outputs": [],
   "source": []
  }
 ],
 "metadata": {
  "kernelspec": {
   "display_name": "Python 3",
   "language": "python",
   "name": "python3"
  },
  "language_info": {
   "codemirror_mode": {
    "name": "ipython",
    "version": 3
   },
   "file_extension": ".py",
   "mimetype": "text/x-python",
   "name": "python",
   "nbconvert_exporter": "python",
   "pygments_lexer": "ipython3",
   "version": "3.8.3"
  }
 },
 "nbformat": 4,
 "nbformat_minor": 4
}
